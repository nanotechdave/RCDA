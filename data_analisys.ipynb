{
 "cells": [
  {
   "cell_type": "markdown",
   "metadata": {},
   "source": [
    "# Data Analisys"
   ]
  },
  {
   "cell_type": "markdown",
   "metadata": {},
   "source": [
    "# Settings"
   ]
  },
  {
   "cell_type": "markdown",
   "metadata": {},
   "source": [
    "### Import packages and settings"
   ]
  },
  {
   "cell_type": "code",
   "execution_count": 119,
   "metadata": {},
   "outputs": [],
   "source": [
    "from classes import sample\n",
    "import pandas as pd\n",
    "import numpy as np\n",
    "from utils import utils as ut\n",
    "from modules.memorycapacity import memorycapacity"
   ]
  },
  {
   "cell_type": "code",
   "execution_count": 120,
   "metadata": {},
   "outputs": [],
   "source": [
    "PATH = \"/Users/davidepilati/Library/CloudStorage/OneDrive-PolitecnicodiTorino/PhD/Misure/InrimARC/NWN_Pad130M/\"\n",
    "SAMPLE_NAME = \"130M\" "
   ]
  },
  {
   "cell_type": "markdown",
   "metadata": {},
   "source": [
    "### Initialize Sample with all measurements\n",
    "\n",
    "Sample object constructor scans the sample folder for all the measurements, then fills every Measurement object with the necessary informations about the measurement for data analisys."
   ]
  },
  {
   "cell_type": "code",
   "execution_count": 121,
   "metadata": {},
   "outputs": [
    {
     "data": {
      "text/plain": [
       "' for meas in NWN_130M.measurements:\\n    print(meas.number, meas.experiment)\\n    if meas.experiment==\"memorycapacity\":\\n        print(f\"scores: {meas.elec_scores}\") '"
      ]
     },
     "execution_count": 121,
     "metadata": {},
     "output_type": "execute_result"
    }
   ],
   "source": [
    "NWN_130M = sample.Sample(SAMPLE_NAME, PATH)\n",
    "\"\"\" for meas in NWN_130M.measurements:\n",
    "    print(meas.number, meas.experiment)\n",
    "    if meas.experiment==\"memorycapacity\":\n",
    "        print(f\"scores: {meas.elec_scores}\") \"\"\""
   ]
  },
  {
   "cell_type": "code",
   "execution_count": 122,
   "metadata": {},
   "outputs": [
    {
     "name": "stdout",
     "output_type": "stream",
     "text": [
      "Memory capacity measurement numbers:\n",
      "004\n",
      "011\n",
      "018\n",
      "025\n",
      "032\n",
      "039\n",
      "046\n",
      "053\n"
     ]
    }
   ],
   "source": [
    "mc_measurements = []\n",
    "print(\"Memory capacity measurement numbers:\")\n",
    "for measurement in NWN_130M.measurements:\n",
    "    if measurement.experiment == \"memorycapacity\":\n",
    "        mc_measurements.append(measurement)\n",
    "        print(f\"{measurement.number}\")"
   ]
  },
  {
   "cell_type": "code",
   "execution_count": 123,
   "metadata": {},
   "outputs": [],
   "source": [
    "import matplotlib.pyplot as plt\n",
    "import numpy as np\n",
    "\n",
    "def plot_electrode_scores_grid(scores):\n",
    "    \"\"\"\n",
    "    Plots a 4x4 matrix of electrode scores with square numbers in each cell.\n",
    "\n",
    "    Args:\n",
    "    scores (list of float): A list of 16 scores corresponding to each electrode.\n",
    "\n",
    "    Raises:\n",
    "    ValueError: If the number of scores is not exactly 16.\n",
    "    \"\"\"\n",
    "    if len(scores) != 16:\n",
    "        raise ValueError(\"The list of scores must contain exactly 16 elements.\")\n",
    "\n",
    "    # Convert the list of scores to a 4x4 numpy array\n",
    "    score_matrix = np.array(scores).reshape(4, 4)\n",
    "\n",
    "    # Create a figure and a plot\n",
    "    fig, ax = plt.subplots(figsize=(6, 6))\n",
    "    cax = ax.matshow(score_matrix, cmap='viridis', interpolation='nearest')\n",
    "    \n",
    "    # Add a color bar\n",
    "    plt.colorbar(cax)\n",
    "\n",
    "    # Remove axis ticks\n",
    "    ax.set_xticks([])\n",
    "    ax.set_yticks([])\n",
    "\n",
    "    # Adding electrode numbers to the squares, using the specific order\n",
    "    electrode_numbers = [\n",
    "        14, 13, 11, 10,\n",
    "        15, 12,  8,  9,\n",
    "        16,  3,  5,  7,\n",
    "         1,  2,  4,  6\n",
    "    ]\n",
    "    for i in range(4):\n",
    "        for j in range(4):\n",
    "            ax.text(j, i, f'{electrode_numbers[i*4 + j]}', va='center', ha='center', color='white')\n",
    "\n",
    "    # Title for the plot\n",
    "    plt.title('Electrode Scores')\n",
    "\n",
    "    # Show the plot\n",
    "    plt.show()\n"
   ]
  },
  {
   "cell_type": "code",
   "execution_count": 66,
   "metadata": {},
   "outputs": [],
   "source": [
    "def insert_zeros(scores, positions, values=[0, 0]):\n",
    "    \"\"\"\n",
    "    Inserts zeros into the scores list at the specified positions.\n",
    "\n",
    "    Args:\n",
    "    scores (list of float): The list of scores.\n",
    "    positions (list of int): Indices where zeros should be inserted.\n",
    "    values (list of float): Values to insert at the specified positions. Defaults to [0, 0].\n",
    "\n",
    "    Returns:\n",
    "    list of float: The new scores list with zeros inserted.\n",
    "\n",
    "    Raises:\n",
    "    ValueError: If the positions list is not exactly two elements long or if any index is out of range.\n",
    "    \"\"\"\n",
    "    if len(positions) != 2 or len(values) != 2:\n",
    "        raise ValueError(\"Both positions and values must contain exactly two elements.\")\n",
    "\n",
    "    # Ensure that the new list will have exactly 16 elements after insertion\n",
    "    if len(scores) + len(values) != 16:\n",
    "        raise ValueError(\"The original scores list and values must sum up to 16 elements.\")\n",
    "\n",
    "    # Copy the original scores to avoid modifying it directly\n",
    "    new_scores = scores[:]\n",
    "    # Insert zeros at the specified positions\n",
    "    for pos, val in sorted(zip(positions, values), reverse=True):\n",
    "        new_scores.insert(pos, val)\n",
    "\n",
    "    return new_scores\n"
   ]
  },
  {
   "cell_type": "markdown",
   "metadata": {},
   "source": [
    "### Run routine"
   ]
  },
  {
   "cell_type": "code",
   "execution_count": 107,
   "metadata": {},
   "outputs": [],
   "source": [
    "meas = mc_measurements[0]\n",
    "scores = meas.elec_scores\n",
    "scores_formatted = insert_zeros(list(scores), [0,8])"
   ]
  },
  {
   "cell_type": "code",
   "execution_count": 108,
   "metadata": {},
   "outputs": [],
   "source": [
    "def transform_to_matrix_grid_setup(vector):\n",
    "    \"\"\"\n",
    "    Transforms a vector of 16 elements into a specified 4x4 matrix format.\n",
    "\n",
    "    Args:\n",
    "    vector (list of int): A list of 16 integers.\n",
    "\n",
    "    Returns:\n",
    "    numpy.ndarray: A 4x4 numpy array with the elements rearranged.\n",
    "\n",
    "    Raises:\n",
    "    ValueError: If the input vector does not contain exactly 16 elements.\n",
    "    \"\"\"\n",
    "    if len(vector) != 16:\n",
    "        raise ValueError(\"The input vector must contain exactly 16 elements.\")\n",
    "\n",
    "    # Create the matrix in the specified order\n",
    "    matrix = [\n",
    "        [vector[13], vector[12], vector[10], vector[9]],\n",
    "        [vector[14], vector[11], vector[7], vector[8]],\n",
    "        [vector[15], vector[2], vector[4], vector[6]],\n",
    "        [vector[0], vector[1], vector[3], vector[5]]\n",
    "    ]\n",
    "    \n",
    "    # Convert list to numpy array for consistency with plotting and other operations\n",
    "    return np.array(matrix)\n"
   ]
  },
  {
   "cell_type": "code",
   "execution_count": 109,
   "metadata": {},
   "outputs": [],
   "source": [
    "scores_formatted = transform_to_matrix_grid_setup(scores_formatted).flatten().tolist()"
   ]
  },
  {
   "cell_type": "code",
   "execution_count": 116,
   "metadata": {},
   "outputs": [
    {
     "data": {
      "image/png": "[encoded data removed]",
      "text/plain": [
       "<Figure size 600x600 with 2 Axes>"
      ]
     },
     "metadata": {},
     "output_type": "display_data"
    }
   ],
   "source": [
    "plot_electrode_scores_grid(scores_formatted)"
   ]
  }
 ],
 "metadata": {
  "kernelspec": {
   "display_name": "Python 3",
   "language": "python",
   "name": "python3"
  },
  "language_info": {
   "codemirror_mode": {
    "name": "ipython",
    "version": 3
   },
   "file_extension": ".py",
   "mimetype": "text/x-python",
   "name": "python",
   "nbconvert_exporter": "python",
   "pygments_lexer": "ipython3",
   "version": "3.12.0"
  }
 },
 "nbformat": 4,
 "nbformat_minor": 2
}
